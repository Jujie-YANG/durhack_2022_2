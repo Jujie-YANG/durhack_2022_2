{
 "cells": [
  {
   "cell_type": "code",
   "execution_count": 8,
   "id": "e53b6952",
   "metadata": {},
   "outputs": [],
   "source": [
    "import sklearn\n",
    "import pandas as pd"
   ]
  },
  {
   "cell_type": "code",
   "execution_count": 9,
   "id": "d3a2d3a3",
   "metadata": {},
   "outputs": [],
   "source": [
    "from sklearn.linear_model import LogisticRegression"
   ]
  },
  {
   "cell_type": "code",
   "execution_count": 10,
   "id": "ee0dd7f5",
   "metadata": {},
   "outputs": [],
   "source": [
    "from sklearn.metrics import accuracy_score"
   ]
  },
  {
   "cell_type": "code",
   "execution_count": 11,
   "id": "bd58d765",
   "metadata": {},
   "outputs": [],
   "source": [
    "x_train = pd.read_csv('../data/x_train.csv')\n",
    "y_train = pd.read_csv('../data/y_train.csv')\n",
    "x_test = pd.read_csv('../data/x_test.csv')"
   ]
  },
  {
   "cell_type": "code",
   "execution_count": 12,
   "id": "217806bd",
   "metadata": {},
   "outputs": [],
   "source": [
    "x_train = x_train.fillna(0)\n",
    "x_train.drop([\"ID\",\"DATE\"],axis=1, inplace=True)"
   ]
  },
  {
   "cell_type": "code",
   "execution_count": 14,
   "id": "c502b7dc",
   "metadata": {},
   "outputs": [
    {
     "data": {
      "text/plain": [
       "0          True\n",
       "1          True\n",
       "2         False\n",
       "3         False\n",
       "4         False\n",
       "          ...  \n",
       "418590    False\n",
       "418591    False\n",
       "418592     True\n",
       "418593     True\n",
       "418594    False\n",
       "Name: RET, Length: 418595, dtype: bool"
      ]
     },
     "execution_count": 14,
     "metadata": {},
     "output_type": "execute_result"
    }
   ],
   "source": [
    "y_train = y_train[\"RET\"]\n",
    "y_train"
   ]
  },
  {
   "cell_type": "code",
   "execution_count": 15,
   "id": "097514b7",
   "metadata": {},
   "outputs": [
    {
     "data": {
      "text/plain": [
       "LogisticRegression()"
      ]
     },
     "execution_count": 15,
     "metadata": {},
     "output_type": "execute_result"
    }
   ],
   "source": [
    "logisticRegr = LogisticRegression()\n",
    "logisticRegr.fit(x_train, y_train)"
   ]
  },
  {
   "cell_type": "code",
   "execution_count": 17,
   "id": "6cf16f3c",
   "metadata": {},
   "outputs": [
    {
     "data": {
      "text/plain": [
       "array([False, False, False, False, False, False, False, False, False,\n",
       "       False])"
      ]
     },
     "execution_count": 17,
     "metadata": {},
     "output_type": "execute_result"
    }
   ],
   "source": [
    "logisticRegr.predict(x_train[0:10])"
   ]
  },
  {
   "cell_type": "markdown",
   "id": "2772a95f",
   "metadata": {},
   "source": [
    "### Visualizing outliers"
   ]
  },
  {
   "cell_type": "code",
   "execution_count": 30,
   "id": "a22f24a2",
   "metadata": {},
   "outputs": [
    {
     "data": {
      "text/plain": [
       "['STOCK',\n",
       " 'INDUSTRY',\n",
       " 'INDUSTRY_GROUP',\n",
       " 'SECTOR',\n",
       " 'SUB_INDUSTRY',\n",
       " 'RET_1',\n",
       " 'VOLUME_1',\n",
       " 'RET_2',\n",
       " 'VOLUME_2',\n",
       " 'RET_3',\n",
       " 'VOLUME_3',\n",
       " 'RET_4',\n",
       " 'VOLUME_4',\n",
       " 'RET_5',\n",
       " 'VOLUME_5',\n",
       " 'RET_6',\n",
       " 'VOLUME_6',\n",
       " 'RET_7',\n",
       " 'VOLUME_7',\n",
       " 'RET_8',\n",
       " 'VOLUME_8',\n",
       " 'RET_9',\n",
       " 'VOLUME_9',\n",
       " 'RET_10',\n",
       " 'VOLUME_10',\n",
       " 'RET_11',\n",
       " 'VOLUME_11',\n",
       " 'RET_12',\n",
       " 'VOLUME_12',\n",
       " 'RET_13',\n",
       " 'VOLUME_13',\n",
       " 'RET_14',\n",
       " 'VOLUME_14',\n",
       " 'RET_15',\n",
       " 'VOLUME_15',\n",
       " 'RET_16',\n",
       " 'VOLUME_16',\n",
       " 'RET_17',\n",
       " 'VOLUME_17',\n",
       " 'RET_18',\n",
       " 'VOLUME_18',\n",
       " 'RET_19',\n",
       " 'VOLUME_19',\n",
       " 'RET_20',\n",
       " 'VOLUME_20']"
      ]
     },
     "execution_count": 30,
     "metadata": {},
     "output_type": "execute_result"
    }
   ],
   "source": [
    "feature_names = list(x_train[:0])\n",
    "feature_names"
   ]
  },
  {
   "cell_type": "code",
   "execution_count": 33,
   "id": "65c296c6",
   "metadata": {},
   "outputs": [
    {
     "data": {
      "image/png": "[encoded data removed]",
      "text/plain": [
       "<Figure size 432x288 with 1 Axes>"
      ]
     },
     "metadata": {
      "needs_background": "light"
     },
     "output_type": "display_data"
    }
   ],
   "source": [
    "import seaborn as sns\n",
    "from scipy import stats\n",
    "ax = sns.boxplot(data=x_train[feature_names[5:]], orient=\"h\", palette=\"Set1\")"
   ]
  },
  {
   "cell_type": "code",
   "execution_count": 34,
   "id": "16a14e64",
   "metadata": {},
   "outputs": [],
   "source": [
    "### Finding the boundary values"
   ]
  },
  {
   "cell_type": "code",
   "execution_count": 38,
   "id": "a736f783",
   "metadata": {},
   "outputs": [
    {
     "name": "stdout",
     "output_type": "stream",
     "text": [
      "Highest allowed 0.09504270450582011\n",
      "Lowest allowed -0.09229316567046095\n"
     ]
    }
   ],
   "source": [
    "print(\"Highest allowed\",x_train['RET_1'].mean() + 3*x_train['RET_1'].std())\n",
    "print(\"Lowest allowed\",x_train['RET_1'].mean() - 3*x_train['RET_1'].std())"
   ]
  },
  {
   "cell_type": "code",
   "execution_count": null,
   "id": "b58e0e3f",
   "metadata": {},
   "outputs": [],
   "source": []
  }
 ],
 "metadata": {
  "kernelspec": {
   "display_name": "Python 3",
   "language": "python",
   "name": "python3"
  },
  "language_info": {
   "codemirror_mode": {
    "name": "ipython",
    "version": 3
   },
   "file_extension": ".py",
   "mimetype": "text/x-python",
   "name": "python",
   "nbconvert_exporter": "python",
   "pygments_lexer": "ipython3",
   "version": "3.8.8"
  },
  "vscode": {
   "interpreter": {
    "hash": "e7f4cc9de850948aa217e208edc1ba8d2196a7ba9b3e26e5ff24db52e0b03b71"
   }
  }
 },
 "nbformat": 4,
 "nbformat_minor": 5
}
