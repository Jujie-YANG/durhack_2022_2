{
 "cells": [
  {
   "cell_type": "code",
   "execution_count": null,
   "id": "e53b6952",
   "metadata": {},
   "outputs": [],
   "source": []
  }
 ],
 "metadata": {
  "kernelspec": {
   "display_name": "Python 3.8.8 ('base')",
   "language": "python",
   "name": "python3"
  },
  "language_info": {
   "codemirror_mode": {
    "name": "ipython",
    "version": 3
   },
   "file_extension": ".py",
   "mimetype": "text/x-python",
   "name": "python",
   "nbconvert_exporter": "python",
   "pygments_lexer": "ipython3",
   "version": "3.8.8"
  },
  "vscode": {
   "interpreter": {
    "hash": "e7f4cc9de850948aa217e208edc1ba8d2196a7ba9b3e26e5ff24db52e0b03b71"
   }
  }
 },
 "nbformat": 4,
 "nbformat_minor": 5
}
